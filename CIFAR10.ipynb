{
  "nbformat": 4,
  "nbformat_minor": 0,
  "metadata": {
    "colab": {
      "name": "CIFAR10.ipynb",
      "provenance": [],
      "collapsed_sections": [],
      "toc_visible": true,
      "authorship_tag": "ABX9TyO1BeTc8+qLVb1fACfEV7Wg",
      "include_colab_link": true
    },
    "kernelspec": {
      "name": "python3",
      "display_name": "Python 3"
    },
    "accelerator": "GPU"
  },
  "cells": [
    {
      "cell_type": "markdown",
      "metadata": {
        "id": "view-in-github",
        "colab_type": "text"
      },
      "source": [
        "<a href=\"https://colab.research.google.com/github/AbhishekAjoy/CIFAR10/blob/master/CIFAR10.ipynb\" target=\"_parent\"><img src=\"https://colab.research.google.com/assets/colab-badge.svg\" alt=\"Open In Colab\"/></a>"
      ]
    },
    {
      "cell_type": "code",
      "metadata": {
        "id": "krxiPdwWCoSF",
        "colab_type": "code",
        "colab": {}
      },
      "source": [
        "import sys\n",
        "from matplotlib import pyplot\n",
        "from keras.datasets import cifar10\n",
        "from keras.utils import to_categorical\n",
        "from keras.models import Sequential\n",
        "from keras.layers import Conv2D\n",
        "from keras.layers import MaxPooling2D\n",
        "from keras.layers import Dense\n",
        "from keras.layers import Flatten\n",
        "from keras.optimizers import SGD\n",
        "from keras.preprocessing.image import ImageDataGenerator\n",
        "from keras.layers import Dropout\n",
        "from keras.layers import BatchNormalization\n",
        "from keras.preprocessing.image import load_img\n",
        "from keras.preprocessing.image import img_to_array\n",
        "from keras.models import load_model"
      ],
      "execution_count": 0,
      "outputs": []
    },
    {
      "cell_type": "markdown",
      "metadata": {
        "id": "Ex_SZZt0F5qv",
        "colab_type": "text"
      },
      "source": [
        "# Load Dataset"
      ]
    },
    {
      "cell_type": "code",
      "metadata": {
        "id": "Bb_pJx13HHRu",
        "colab_type": "code",
        "colab": {}
      },
      "source": [
        "def load_dataset():\n",
        "\t# load dataset\n",
        "\t(trainX, trainY), (testX, testY) = cifar10.load_data()\n",
        "\t# one hot encode target values\n",
        "\ttrainY = to_categorical(trainY)\n",
        "\ttestY = to_categorical(testY)\n",
        "\treturn trainX, trainY, testX, testY"
      ],
      "execution_count": 0,
      "outputs": []
    },
    {
      "cell_type": "markdown",
      "metadata": {
        "id": "F_rGnbArHh02",
        "colab_type": "text"
      },
      "source": [
        "# Scale Pixels"
      ]
    },
    {
      "cell_type": "code",
      "metadata": {
        "id": "xYrvlFUIHIQj",
        "colab_type": "code",
        "colab": {}
      },
      "source": [
        "def prep_pixels(train, test):\n",
        "\t# convert from integers to floats\n",
        "\ttrain_norm = train.astype('float32')\n",
        "\ttest_norm = test.astype('float32')\n",
        "\t# normalize to range 0-1\n",
        "\ttrain_norm = train_norm / 255.0\n",
        "\ttest_norm = test_norm / 255.0\n",
        "\t# return normalized images\n",
        "\treturn train_norm, test_norm"
      ],
      "execution_count": 0,
      "outputs": []
    },
    {
      "cell_type": "markdown",
      "metadata": {
        "id": "MNzH_0NyIyMh",
        "colab_type": "text"
      },
      "source": [
        "# Model"
      ]
    },
    {
      "cell_type": "code",
      "metadata": {
        "id": "CYqkPt9mH5cE",
        "colab_type": "code",
        "colab": {}
      },
      "source": [
        "def define_model():\n",
        "\tmodel = Sequential()\n",
        "\tmodel.add(Conv2D(32, (3, 3), activation='relu', kernel_initializer='he_uniform', padding='same', input_shape=(32, 32, 3)))\n",
        "\tmodel.add(BatchNormalization())\n",
        "\tmodel.add(Conv2D(32, (3, 3), activation='relu', kernel_initializer='he_uniform', padding='same'))\n",
        "\tmodel.add(BatchNormalization())\n",
        "\tmodel.add(MaxPooling2D((2, 2)))\n",
        "\tmodel.add(Dropout(0.2))\n",
        "\tmodel.add(Conv2D(64, (3, 3), activation='relu', kernel_initializer='he_uniform', padding='same'))\n",
        "\tmodel.add(BatchNormalization())\n",
        "\tmodel.add(Conv2D(64, (3, 3), activation='relu', kernel_initializer='he_uniform', padding='same'))\n",
        "\tmodel.add(BatchNormalization())\n",
        "\tmodel.add(MaxPooling2D((2, 2)))\n",
        "\tmodel.add(Dropout(0.3))\n",
        "\tmodel.add(Conv2D(128, (3, 3), activation='relu', kernel_initializer='he_uniform', padding='same'))\n",
        "\tmodel.add(BatchNormalization())\n",
        "\tmodel.add(Conv2D(128, (3, 3), activation='relu', kernel_initializer='he_uniform', padding='same'))\n",
        "\tmodel.add(BatchNormalization())\n",
        "\tmodel.add(MaxPooling2D((2, 2)))\n",
        "\tmodel.add(Dropout(0.4))\n",
        "\tmodel.add(Flatten())\n",
        "\tmodel.add(Dense(128, activation='relu', kernel_initializer='he_uniform'))\n",
        "\tmodel.add(BatchNormalization())\n",
        "\tmodel.add(Dropout(0.5))\n",
        "\tmodel.add(Dense(10, activation='softmax'))\n",
        "\t# compile model\n",
        "\topt = SGD(lr=0.001, momentum=0.9)\n",
        "\tmodel.compile(optimizer=opt, loss='categorical_crossentropy', metrics=['accuracy'])\n",
        "\treturn model"
      ],
      "execution_count": 0,
      "outputs": []
    },
    {
      "cell_type": "markdown",
      "metadata": {
        "id": "iD2YOqrHIMYG",
        "colab_type": "text"
      },
      "source": [
        "# Learning Curves"
      ]
    },
    {
      "cell_type": "code",
      "metadata": {
        "id": "IJMmR4X2H9KI",
        "colab_type": "code",
        "colab": {}
      },
      "source": [
        "def summarize_diagnostics(history):\n",
        "\t# plot loss\n",
        "\tpyplot.subplot(211)\n",
        "\tpyplot.title('Cross Entropy Loss')\n",
        "\tpyplot.plot(history.history['loss'], color='blue', label='train')\n",
        "\tpyplot.plot(history.history['val_loss'], color='orange', label='test')\n",
        "\t# plot accuracy\n",
        "\tpyplot.subplot(212)\n",
        "\tpyplot.title('Classification Accuracy')\n",
        "\tpyplot.plot(history.history['accuracy'], color='blue', label='train')\n",
        "\tpyplot.plot(history.history['val_accuracy'], color='orange', label='test')\n",
        "\t# save plot to file\n",
        "\tfilename = sys.argv[0].split('/')[-1]\n",
        "\tpyplot.savefig(filename + '_plot.png')\n",
        "\tpyplot.close()"
      ],
      "execution_count": 0,
      "outputs": []
    },
    {
      "cell_type": "code",
      "metadata": {
        "id": "5mYQbUfaIUog",
        "colab_type": "code",
        "colab": {}
      },
      "source": [
        "# load dataset\n",
        "trainX, trainY, testX, testY = load_dataset()\n",
        "# prepare pixel data\n",
        "trainX, testX = prep_pixels(trainX, testX)\n",
        "# define model\n",
        "model = define_model()"
      ],
      "execution_count": 0,
      "outputs": []
    },
    {
      "cell_type": "code",
      "metadata": {
        "id": "-qFYHrdVO2eA",
        "colab_type": "code",
        "colab": {
          "base_uri": "https://localhost:8080/",
          "height": 1000
        },
        "outputId": "cc6f0bb5-1a1b-4c54-c145-8d7db74af2d1"
      },
      "source": [
        "# fit model\n",
        "history = model.fit(trainX, trainY, epochs=100, batch_size=64, validation_data=(testX, testY), verbose=1)"
      ],
      "execution_count": 7,
      "outputs": [
        {
          "output_type": "stream",
          "text": [
            "Train on 50000 samples, validate on 10000 samples\n",
            "Epoch 1/100\n",
            "50000/50000 [==============================] - 14s 280us/step - loss: 2.0746 - accuracy: 0.3129 - val_loss: 1.5021 - val_accuracy: 0.4544\n",
            "Epoch 2/100\n",
            "50000/50000 [==============================] - 12s 232us/step - loss: 1.5532 - accuracy: 0.4348 - val_loss: 1.3462 - val_accuracy: 0.5129\n",
            "Epoch 3/100\n",
            "50000/50000 [==============================] - 12s 233us/step - loss: 1.4038 - accuracy: 0.4883 - val_loss: 1.2618 - val_accuracy: 0.5415\n",
            "Epoch 4/100\n",
            "50000/50000 [==============================] - 12s 233us/step - loss: 1.3051 - accuracy: 0.5265 - val_loss: 1.3755 - val_accuracy: 0.4914\n",
            "Epoch 5/100\n",
            "50000/50000 [==============================] - 12s 233us/step - loss: 1.2132 - accuracy: 0.5657 - val_loss: 1.1313 - val_accuracy: 0.5898\n",
            "Epoch 6/100\n",
            "50000/50000 [==============================] - 12s 235us/step - loss: 1.1476 - accuracy: 0.5895 - val_loss: 1.0603 - val_accuracy: 0.6142\n",
            "Epoch 7/100\n",
            "50000/50000 [==============================] - 12s 234us/step - loss: 1.1004 - accuracy: 0.6088 - val_loss: 1.0676 - val_accuracy: 0.6221\n",
            "Epoch 8/100\n",
            "50000/50000 [==============================] - 12s 235us/step - loss: 1.0543 - accuracy: 0.6270 - val_loss: 1.0061 - val_accuracy: 0.6405\n",
            "Epoch 9/100\n",
            "50000/50000 [==============================] - 12s 233us/step - loss: 1.0216 - accuracy: 0.6376 - val_loss: 0.9558 - val_accuracy: 0.6575\n",
            "Epoch 10/100\n",
            "50000/50000 [==============================] - 12s 234us/step - loss: 0.9837 - accuracy: 0.6527 - val_loss: 0.9381 - val_accuracy: 0.6629\n",
            "Epoch 11/100\n",
            "50000/50000 [==============================] - 12s 239us/step - loss: 0.9587 - accuracy: 0.6591 - val_loss: 0.8782 - val_accuracy: 0.6857\n",
            "Epoch 12/100\n",
            "50000/50000 [==============================] - 12s 238us/step - loss: 0.9346 - accuracy: 0.6707 - val_loss: 0.9454 - val_accuracy: 0.6657\n",
            "Epoch 13/100\n",
            "50000/50000 [==============================] - 12s 233us/step - loss: 0.9120 - accuracy: 0.6789 - val_loss: 0.8716 - val_accuracy: 0.6928\n",
            "Epoch 14/100\n",
            "50000/50000 [==============================] - 12s 232us/step - loss: 0.8891 - accuracy: 0.6873 - val_loss: 0.8650 - val_accuracy: 0.6924\n",
            "Epoch 15/100\n",
            "50000/50000 [==============================] - 12s 233us/step - loss: 0.8675 - accuracy: 0.6955 - val_loss: 0.8324 - val_accuracy: 0.7048\n",
            "Epoch 16/100\n",
            "50000/50000 [==============================] - 12s 234us/step - loss: 0.8525 - accuracy: 0.7009 - val_loss: 0.8579 - val_accuracy: 0.6918\n",
            "Epoch 17/100\n",
            "50000/50000 [==============================] - 12s 231us/step - loss: 0.8349 - accuracy: 0.7070 - val_loss: 0.8287 - val_accuracy: 0.7032\n",
            "Epoch 18/100\n",
            "50000/50000 [==============================] - 12s 235us/step - loss: 0.8210 - accuracy: 0.7110 - val_loss: 0.7596 - val_accuracy: 0.7314\n",
            "Epoch 19/100\n",
            "50000/50000 [==============================] - 12s 234us/step - loss: 0.8086 - accuracy: 0.7141 - val_loss: 0.7573 - val_accuracy: 0.7329\n",
            "Epoch 20/100\n",
            "50000/50000 [==============================] - 12s 233us/step - loss: 0.7953 - accuracy: 0.7211 - val_loss: 0.7430 - val_accuracy: 0.7387\n",
            "Epoch 21/100\n",
            "50000/50000 [==============================] - 12s 232us/step - loss: 0.7827 - accuracy: 0.7267 - val_loss: 0.7421 - val_accuracy: 0.7356\n",
            "Epoch 22/100\n",
            "50000/50000 [==============================] - 12s 232us/step - loss: 0.7703 - accuracy: 0.7300 - val_loss: 0.7143 - val_accuracy: 0.7490\n",
            "Epoch 23/100\n",
            "50000/50000 [==============================] - 12s 232us/step - loss: 0.7604 - accuracy: 0.7335 - val_loss: 0.7440 - val_accuracy: 0.7385\n",
            "Epoch 24/100\n",
            "50000/50000 [==============================] - 12s 233us/step - loss: 0.7538 - accuracy: 0.7357 - val_loss: 0.7934 - val_accuracy: 0.7201\n",
            "Epoch 25/100\n",
            "50000/50000 [==============================] - 12s 233us/step - loss: 0.7389 - accuracy: 0.7392 - val_loss: 0.7309 - val_accuracy: 0.7453\n",
            "Epoch 26/100\n",
            "50000/50000 [==============================] - 12s 234us/step - loss: 0.7280 - accuracy: 0.7448 - val_loss: 0.6821 - val_accuracy: 0.7601\n",
            "Epoch 27/100\n",
            "50000/50000 [==============================] - 12s 231us/step - loss: 0.7200 - accuracy: 0.7465 - val_loss: 0.7219 - val_accuracy: 0.7464\n",
            "Epoch 28/100\n",
            "50000/50000 [==============================] - 12s 231us/step - loss: 0.7113 - accuracy: 0.7522 - val_loss: 0.7182 - val_accuracy: 0.7493\n",
            "Epoch 29/100\n",
            "50000/50000 [==============================] - 12s 230us/step - loss: 0.7027 - accuracy: 0.7536 - val_loss: 0.6525 - val_accuracy: 0.7720\n",
            "Epoch 30/100\n",
            "50000/50000 [==============================] - 12s 232us/step - loss: 0.6932 - accuracy: 0.7563 - val_loss: 0.7112 - val_accuracy: 0.7508\n",
            "Epoch 31/100\n",
            "50000/50000 [==============================] - 12s 231us/step - loss: 0.6884 - accuracy: 0.7597 - val_loss: 0.6445 - val_accuracy: 0.7741\n",
            "Epoch 32/100\n",
            "50000/50000 [==============================] - 12s 232us/step - loss: 0.6771 - accuracy: 0.7633 - val_loss: 0.6452 - val_accuracy: 0.7715\n",
            "Epoch 33/100\n",
            "50000/50000 [==============================] - 12s 231us/step - loss: 0.6715 - accuracy: 0.7680 - val_loss: 0.6449 - val_accuracy: 0.7726\n",
            "Epoch 34/100\n",
            "50000/50000 [==============================] - 12s 230us/step - loss: 0.6614 - accuracy: 0.7675 - val_loss: 0.6361 - val_accuracy: 0.7785\n",
            "Epoch 35/100\n",
            "50000/50000 [==============================] - 12s 231us/step - loss: 0.6534 - accuracy: 0.7697 - val_loss: 0.7035 - val_accuracy: 0.7625\n",
            "Epoch 36/100\n",
            "50000/50000 [==============================] - 12s 234us/step - loss: 0.6444 - accuracy: 0.7775 - val_loss: 0.6358 - val_accuracy: 0.7785\n",
            "Epoch 37/100\n",
            "50000/50000 [==============================] - 12s 232us/step - loss: 0.6411 - accuracy: 0.7764 - val_loss: 0.6128 - val_accuracy: 0.7851\n",
            "Epoch 38/100\n",
            "50000/50000 [==============================] - 12s 238us/step - loss: 0.6376 - accuracy: 0.7766 - val_loss: 0.6444 - val_accuracy: 0.7783\n",
            "Epoch 39/100\n",
            "50000/50000 [==============================] - 12s 234us/step - loss: 0.6279 - accuracy: 0.7813 - val_loss: 0.6146 - val_accuracy: 0.7867\n",
            "Epoch 40/100\n",
            "50000/50000 [==============================] - 12s 234us/step - loss: 0.6226 - accuracy: 0.7826 - val_loss: 0.6253 - val_accuracy: 0.7828\n",
            "Epoch 41/100\n",
            "50000/50000 [==============================] - 12s 232us/step - loss: 0.6144 - accuracy: 0.7850 - val_loss: 0.6514 - val_accuracy: 0.7747\n",
            "Epoch 42/100\n",
            "50000/50000 [==============================] - 12s 233us/step - loss: 0.6048 - accuracy: 0.7899 - val_loss: 0.5891 - val_accuracy: 0.7959\n",
            "Epoch 43/100\n",
            "50000/50000 [==============================] - 12s 233us/step - loss: 0.6055 - accuracy: 0.7874 - val_loss: 0.5955 - val_accuracy: 0.7935\n",
            "Epoch 44/100\n",
            "50000/50000 [==============================] - 12s 230us/step - loss: 0.5941 - accuracy: 0.7938 - val_loss: 0.5911 - val_accuracy: 0.7941\n",
            "Epoch 45/100\n",
            "50000/50000 [==============================] - 12s 231us/step - loss: 0.5905 - accuracy: 0.7944 - val_loss: 0.6438 - val_accuracy: 0.7805\n",
            "Epoch 46/100\n",
            "50000/50000 [==============================] - 12s 234us/step - loss: 0.5820 - accuracy: 0.7978 - val_loss: 0.6483 - val_accuracy: 0.7793\n",
            "Epoch 47/100\n",
            "50000/50000 [==============================] - 12s 233us/step - loss: 0.5788 - accuracy: 0.8004 - val_loss: 0.5959 - val_accuracy: 0.7931\n",
            "Epoch 48/100\n",
            "50000/50000 [==============================] - 12s 234us/step - loss: 0.5746 - accuracy: 0.7996 - val_loss: 0.6121 - val_accuracy: 0.7936\n",
            "Epoch 49/100\n",
            "50000/50000 [==============================] - 12s 231us/step - loss: 0.5742 - accuracy: 0.7997 - val_loss: 0.6121 - val_accuracy: 0.7892\n",
            "Epoch 50/100\n",
            "50000/50000 [==============================] - 12s 232us/step - loss: 0.5605 - accuracy: 0.8055 - val_loss: 0.5589 - val_accuracy: 0.8054\n",
            "Epoch 51/100\n",
            "50000/50000 [==============================] - 12s 232us/step - loss: 0.5552 - accuracy: 0.8062 - val_loss: 0.6073 - val_accuracy: 0.7927\n",
            "Epoch 52/100\n",
            "50000/50000 [==============================] - 12s 236us/step - loss: 0.5506 - accuracy: 0.8084 - val_loss: 0.5675 - val_accuracy: 0.8052\n",
            "Epoch 53/100\n",
            "50000/50000 [==============================] - 12s 234us/step - loss: 0.5461 - accuracy: 0.8091 - val_loss: 0.5893 - val_accuracy: 0.7968\n",
            "Epoch 54/100\n",
            "50000/50000 [==============================] - 12s 233us/step - loss: 0.5345 - accuracy: 0.8129 - val_loss: 0.5683 - val_accuracy: 0.8030\n",
            "Epoch 55/100\n",
            "50000/50000 [==============================] - 12s 232us/step - loss: 0.5317 - accuracy: 0.8149 - val_loss: 0.5510 - val_accuracy: 0.8119\n",
            "Epoch 56/100\n",
            "50000/50000 [==============================] - 12s 233us/step - loss: 0.5305 - accuracy: 0.8151 - val_loss: 0.6133 - val_accuracy: 0.7926\n",
            "Epoch 57/100\n",
            "50000/50000 [==============================] - 12s 234us/step - loss: 0.5266 - accuracy: 0.8169 - val_loss: 0.5750 - val_accuracy: 0.8036\n",
            "Epoch 58/100\n",
            "50000/50000 [==============================] - 12s 232us/step - loss: 0.5179 - accuracy: 0.8193 - val_loss: 0.5479 - val_accuracy: 0.8112\n",
            "Epoch 59/100\n",
            "50000/50000 [==============================] - 12s 233us/step - loss: 0.5106 - accuracy: 0.8222 - val_loss: 0.5815 - val_accuracy: 0.7991\n",
            "Epoch 60/100\n",
            "50000/50000 [==============================] - 12s 235us/step - loss: 0.5118 - accuracy: 0.8222 - val_loss: 0.5444 - val_accuracy: 0.8112\n",
            "Epoch 61/100\n",
            "50000/50000 [==============================] - 12s 232us/step - loss: 0.5081 - accuracy: 0.8230 - val_loss: 0.5538 - val_accuracy: 0.8112\n",
            "Epoch 62/100\n",
            "50000/50000 [==============================] - 12s 231us/step - loss: 0.5018 - accuracy: 0.8267 - val_loss: 0.5420 - val_accuracy: 0.8160\n",
            "Epoch 63/100\n",
            "50000/50000 [==============================] - 12s 231us/step - loss: 0.4962 - accuracy: 0.8281 - val_loss: 0.5233 - val_accuracy: 0.8228\n",
            "Epoch 64/100\n",
            "50000/50000 [==============================] - 12s 234us/step - loss: 0.4948 - accuracy: 0.8277 - val_loss: 0.5505 - val_accuracy: 0.8115\n",
            "Epoch 65/100\n",
            "50000/50000 [==============================] - 12s 237us/step - loss: 0.4890 - accuracy: 0.8298 - val_loss: 0.5231 - val_accuracy: 0.8193\n",
            "Epoch 66/100\n",
            "50000/50000 [==============================] - 12s 235us/step - loss: 0.4874 - accuracy: 0.8310 - val_loss: 0.5624 - val_accuracy: 0.8143\n",
            "Epoch 67/100\n",
            "50000/50000 [==============================] - 12s 236us/step - loss: 0.4823 - accuracy: 0.8312 - val_loss: 0.5122 - val_accuracy: 0.8267\n",
            "Epoch 68/100\n",
            "50000/50000 [==============================] - 12s 234us/step - loss: 0.4801 - accuracy: 0.8327 - val_loss: 0.5449 - val_accuracy: 0.8156\n",
            "Epoch 69/100\n",
            "50000/50000 [==============================] - 12s 235us/step - loss: 0.4710 - accuracy: 0.8348 - val_loss: 0.5357 - val_accuracy: 0.8195\n",
            "Epoch 70/100\n",
            "50000/50000 [==============================] - 12s 233us/step - loss: 0.4662 - accuracy: 0.8392 - val_loss: 0.5788 - val_accuracy: 0.8034\n",
            "Epoch 71/100\n",
            "50000/50000 [==============================] - 12s 234us/step - loss: 0.4624 - accuracy: 0.8395 - val_loss: 0.4884 - val_accuracy: 0.8327\n",
            "Epoch 72/100\n",
            "50000/50000 [==============================] - 12s 236us/step - loss: 0.4564 - accuracy: 0.8419 - val_loss: 0.5161 - val_accuracy: 0.8242\n",
            "Epoch 73/100\n",
            "50000/50000 [==============================] - 12s 235us/step - loss: 0.4525 - accuracy: 0.8439 - val_loss: 0.5094 - val_accuracy: 0.8234\n",
            "Epoch 74/100\n",
            "50000/50000 [==============================] - 12s 237us/step - loss: 0.4497 - accuracy: 0.8444 - val_loss: 0.5045 - val_accuracy: 0.8311\n",
            "Epoch 75/100\n",
            "50000/50000 [==============================] - 12s 234us/step - loss: 0.4489 - accuracy: 0.8449 - val_loss: 0.5472 - val_accuracy: 0.8175\n",
            "Epoch 76/100\n",
            "50000/50000 [==============================] - 12s 233us/step - loss: 0.4444 - accuracy: 0.8481 - val_loss: 0.5086 - val_accuracy: 0.8271\n",
            "Epoch 77/100\n",
            "50000/50000 [==============================] - 12s 233us/step - loss: 0.4436 - accuracy: 0.8460 - val_loss: 0.5018 - val_accuracy: 0.8288\n",
            "Epoch 78/100\n",
            "50000/50000 [==============================] - 12s 237us/step - loss: 0.4368 - accuracy: 0.8484 - val_loss: 0.5071 - val_accuracy: 0.8286\n",
            "Epoch 79/100\n",
            "50000/50000 [==============================] - 12s 234us/step - loss: 0.4357 - accuracy: 0.8488 - val_loss: 0.4981 - val_accuracy: 0.8297\n",
            "Epoch 80/100\n",
            "50000/50000 [==============================] - 12s 233us/step - loss: 0.4297 - accuracy: 0.8505 - val_loss: 0.5228 - val_accuracy: 0.8249\n",
            "Epoch 81/100\n",
            "50000/50000 [==============================] - 12s 232us/step - loss: 0.4248 - accuracy: 0.8536 - val_loss: 0.4853 - val_accuracy: 0.8342\n",
            "Epoch 82/100\n",
            "50000/50000 [==============================] - 12s 231us/step - loss: 0.4224 - accuracy: 0.8533 - val_loss: 0.5308 - val_accuracy: 0.8221\n",
            "Epoch 83/100\n",
            "50000/50000 [==============================] - 11s 230us/step - loss: 0.4212 - accuracy: 0.8534 - val_loss: 0.4973 - val_accuracy: 0.8331\n",
            "Epoch 84/100\n",
            "50000/50000 [==============================] - 12s 231us/step - loss: 0.4151 - accuracy: 0.8570 - val_loss: 0.5010 - val_accuracy: 0.8320\n",
            "Epoch 85/100\n",
            "50000/50000 [==============================] - 12s 230us/step - loss: 0.4126 - accuracy: 0.8562 - val_loss: 0.4827 - val_accuracy: 0.8402\n",
            "Epoch 86/100\n",
            "50000/50000 [==============================] - 11s 229us/step - loss: 0.4121 - accuracy: 0.8564 - val_loss: 0.4823 - val_accuracy: 0.8368\n",
            "Epoch 87/100\n",
            "50000/50000 [==============================] - 12s 230us/step - loss: 0.4072 - accuracy: 0.8600 - val_loss: 0.4891 - val_accuracy: 0.8328\n",
            "Epoch 88/100\n",
            "50000/50000 [==============================] - 12s 230us/step - loss: 0.4031 - accuracy: 0.8611 - val_loss: 0.4953 - val_accuracy: 0.8369\n",
            "Epoch 89/100\n",
            "50000/50000 [==============================] - 12s 230us/step - loss: 0.3964 - accuracy: 0.8618 - val_loss: 0.4954 - val_accuracy: 0.8358\n",
            "Epoch 90/100\n",
            "50000/50000 [==============================] - 12s 231us/step - loss: 0.3940 - accuracy: 0.8620 - val_loss: 0.4909 - val_accuracy: 0.8390\n",
            "Epoch 91/100\n",
            "50000/50000 [==============================] - 12s 234us/step - loss: 0.3934 - accuracy: 0.8637 - val_loss: 0.4944 - val_accuracy: 0.8310\n",
            "Epoch 92/100\n",
            "50000/50000 [==============================] - 12s 232us/step - loss: 0.3891 - accuracy: 0.8654 - val_loss: 0.4823 - val_accuracy: 0.8380\n",
            "Epoch 93/100\n",
            "50000/50000 [==============================] - 11s 229us/step - loss: 0.3857 - accuracy: 0.8649 - val_loss: 0.4873 - val_accuracy: 0.8408\n",
            "Epoch 94/100\n",
            "50000/50000 [==============================] - 12s 231us/step - loss: 0.3832 - accuracy: 0.8675 - val_loss: 0.5223 - val_accuracy: 0.8278\n",
            "Epoch 95/100\n",
            "50000/50000 [==============================] - 11s 230us/step - loss: 0.3840 - accuracy: 0.8677 - val_loss: 0.4956 - val_accuracy: 0.8355\n",
            "Epoch 96/100\n",
            "50000/50000 [==============================] - 12s 231us/step - loss: 0.3758 - accuracy: 0.8699 - val_loss: 0.4582 - val_accuracy: 0.8466\n",
            "Epoch 97/100\n",
            "50000/50000 [==============================] - 11s 229us/step - loss: 0.3730 - accuracy: 0.8692 - val_loss: 0.4754 - val_accuracy: 0.8415\n",
            "Epoch 98/100\n",
            "50000/50000 [==============================] - 12s 230us/step - loss: 0.3723 - accuracy: 0.8710 - val_loss: 0.4632 - val_accuracy: 0.8463\n",
            "Epoch 99/100\n",
            "50000/50000 [==============================] - 11s 230us/step - loss: 0.3739 - accuracy: 0.8685 - val_loss: 0.4870 - val_accuracy: 0.8401\n",
            "Epoch 100/100\n",
            "50000/50000 [==============================] - 12s 231us/step - loss: 0.3653 - accuracy: 0.8730 - val_loss: 0.4670 - val_accuracy: 0.8452\n"
          ],
          "name": "stdout"
        }
      ]
    },
    {
      "cell_type": "code",
      "metadata": {
        "id": "ADRcnQj7TmV1",
        "colab_type": "code",
        "colab": {}
      },
      "source": [
        "model.save('final_model.h5')"
      ],
      "execution_count": 0,
      "outputs": []
    },
    {
      "cell_type": "code",
      "metadata": {
        "id": "ClqhPI4fOjW_",
        "colab_type": "code",
        "colab": {
          "base_uri": "https://localhost:8080/",
          "height": 35
        },
        "outputId": "3aa1f98f-2bca-4071-8b38-bfefbdc73b71"
      },
      "source": [
        "# evaluate model\n",
        "_, acc = model.evaluate(testX, testY, verbose=0)\n",
        "print('> %.3f' % (acc * 100.0))\n",
        "# learning curves\n",
        "summarize_diagnostics(history)"
      ],
      "execution_count": 9,
      "outputs": [
        {
          "output_type": "stream",
          "text": [
            "> 84.520\n"
          ],
          "name": "stdout"
        }
      ]
    },
    {
      "cell_type": "markdown",
      "metadata": {
        "id": "9GAjJXGPSwV1",
        "colab_type": "text"
      },
      "source": [
        "# Load  Image"
      ]
    },
    {
      "cell_type": "code",
      "metadata": {
        "id": "J17VfjWkSvy_",
        "colab_type": "code",
        "colab": {}
      },
      "source": [
        "# load and prepare the image\n",
        "filename = \"sample_image.png\"\n",
        "def load_image(filename):\n",
        "\t# load the image\n",
        "\timg = load_img(filename, target_size=(32, 32))\n",
        "\t# convert to array\n",
        "\timg = img_to_array(img)\n",
        "\t# reshape into a single sample with 3 channels\n",
        "\timg = img.reshape(1, 32, 32, 3)\n",
        "\t# prepare pixel data\n",
        "\timg = img.astype('float32')\n",
        "\timg = img / 255.0\n",
        "\treturn img"
      ],
      "execution_count": 0,
      "outputs": []
    },
    {
      "cell_type": "code",
      "metadata": {
        "id": "NfS5k5t8S4AG",
        "colab_type": "code",
        "colab": {}
      },
      "source": [
        "def run_example():\n",
        "\t# load the image\n",
        "  img = load_image('sample_image.png')\n",
        "\t# load model\n",
        "  model = load_model('final_model.h5')\n",
        "\t# predict the class\n",
        "  result = model.predict_classes(img)\n",
        "  print('Prediction: ', end =\" \")\n",
        "  if result[0] == 0:\n",
        "    print('airplane')\n",
        "  elif result[0] == 1:\n",
        "    print('automobile')\n",
        "  elif result[0] == 2:\n",
        "    print('bird')\n",
        "  elif result[0] == 3:\n",
        "    print('cat')\n",
        "  elif result[0] == 4:\n",
        "    print('deer')\n",
        "  elif result[0] == 5:\n",
        "    print('dog')\n",
        "  elif result[0] == 6:\n",
        "    print('frog')\n",
        "  elif result[0] == 7:\n",
        "    print('horse')\n",
        "  elif result[0] == 8:\n",
        "    print('ship')\n",
        "  else:\n",
        "    print('truck')"
      ],
      "execution_count": 0,
      "outputs": []
    },
    {
      "cell_type": "code",
      "metadata": {
        "id": "3Lmh8OQGZfrG",
        "colab_type": "code",
        "colab": {
          "base_uri": "https://localhost:8080/",
          "height": 35
        },
        "outputId": "8489c196-c95f-4fa3-8226-f185a7418755"
      },
      "source": [
        "run_example()"
      ],
      "execution_count": 36,
      "outputs": [
        {
          "output_type": "stream",
          "text": [
            "Prediction:  airplane\n"
          ],
          "name": "stdout"
        }
      ]
    }
  ]
}