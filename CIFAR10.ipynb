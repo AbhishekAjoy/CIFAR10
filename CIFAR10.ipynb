{
  "nbformat": 4,
  "nbformat_minor": 0,
  "metadata": {
    "colab": {
      "name": "CIFAR10.ipynb",
      "provenance": [],
      "collapsed_sections": [],
      "toc_visible": true,
      "mount_file_id": "1Cro52Aq1yhLbKficF7l9hf15-Zt1JYeI",
      "authorship_tag": "ABX9TyNfBjnUhPQy2MfRkMQwD9iP",
      "include_colab_link": true
    },
    "kernelspec": {
      "name": "python3",
      "display_name": "Python 3"
    },
    "accelerator": "GPU"
  },
  "cells": [
    {
      "cell_type": "markdown",
      "metadata": {
        "id": "view-in-github",
        "colab_type": "text"
      },
      "source": [
        "<a href=\"https://colab.research.google.com/github/AbhishekAjoy/CIFAR10/blob/master/CIFAR10.ipynb\" target=\"_parent\"><img src=\"https://colab.research.google.com/assets/colab-badge.svg\" alt=\"Open In Colab\"/></a>"
      ]
    },
    {
      "cell_type": "code",
      "metadata": {
        "id": "krxiPdwWCoSF",
        "colab_type": "code",
        "colab": {}
      },
      "source": [
        "import sys\n",
        "import tensorflow as tf\n",
        "from matplotlib import pyplot\n",
        "from tensorflow.keras.datasets import cifar10\n",
        "from tensorflow.keras.utils import to_categorical\n",
        "from tensorflow.keras.models import Sequential\n",
        "from tensorflow.keras.layers import Conv2D\n",
        "from tensorflow.keras.layers import MaxPooling2D\n",
        "from tensorflow.keras.layers import Dense\n",
        "from tensorflow.keras.layers import Flatten\n",
        "from tensorflow.keras.optimizers import SGD\n",
        "from tensorflow.keras.preprocessing.image import ImageDataGenerator\n",
        "from tensorflow.keras.layers import Dropout\n",
        "from tensorflow.keras.layers import BatchNormalization\n",
        "from tensorflow.keras.preprocessing.image import load_img\n",
        "from tensorflow.keras.preprocessing.image import img_to_array\n",
        "from tensorflow.keras.models import load_model"
      ],
      "execution_count": 0,
      "outputs": []
    },
    {
      "cell_type": "markdown",
      "metadata": {
        "id": "Ex_SZZt0F5qv",
        "colab_type": "text"
      },
      "source": [
        "# Load Dataset"
      ]
    },
    {
      "cell_type": "code",
      "metadata": {
        "id": "Bb_pJx13HHRu",
        "colab_type": "code",
        "colab": {}
      },
      "source": [
        "def load_dataset():\n",
        "\t# load dataset\n",
        "\t(trainX, trainY), (testX, testY) = cifar10.load_data()\n",
        "\t# one hot encode target values\n",
        "\ttrainY = to_categorical(trainY)\n",
        "\ttestY = to_categorical(testY)\n",
        "\treturn trainX, trainY, testX, testY"
      ],
      "execution_count": 0,
      "outputs": []
    },
    {
      "cell_type": "markdown",
      "metadata": {
        "id": "F_rGnbArHh02",
        "colab_type": "text"
      },
      "source": [
        "# Scale Pixels"
      ]
    },
    {
      "cell_type": "code",
      "metadata": {
        "id": "xYrvlFUIHIQj",
        "colab_type": "code",
        "colab": {}
      },
      "source": [
        "def prep_pixels(train, test):\n",
        "\t# convert from integers to floats\n",
        "\ttrain_norm = train.astype('float32')\n",
        "\ttest_norm = test.astype('float32')\n",
        "\t# normalize to range 0-1\n",
        "\ttrain_norm = train_norm / 255.0\n",
        "\ttest_norm = test_norm / 255.0\n",
        "\t# return normalized images\n",
        "\treturn train_norm, test_norm"
      ],
      "execution_count": 0,
      "outputs": []
    },
    {
      "cell_type": "markdown",
      "metadata": {
        "id": "MNzH_0NyIyMh",
        "colab_type": "text"
      },
      "source": [
        "# Model"
      ]
    },
    {
      "cell_type": "code",
      "metadata": {
        "id": "CYqkPt9mH5cE",
        "colab_type": "code",
        "colab": {}
      },
      "source": [
        "def define_model():\n",
        "\tmodel = Sequential()\n",
        "\tmodel.add(Conv2D(32, (3, 3), activation='relu', kernel_initializer='he_uniform', padding='same', input_shape=(32, 32, 3)))\n",
        "\tmodel.add(BatchNormalization())\n",
        "\tmodel.add(Conv2D(32, (3, 3), activation='relu', kernel_initializer='he_uniform', padding='same'))\n",
        "\tmodel.add(BatchNormalization())\n",
        "\tmodel.add(MaxPooling2D((2, 2)))\n",
        "\tmodel.add(Dropout(0.2))\n",
        "\tmodel.add(Conv2D(64, (3, 3), activation='relu', kernel_initializer='he_uniform', padding='same'))\n",
        "\tmodel.add(BatchNormalization())\n",
        "\tmodel.add(Conv2D(64, (3, 3), activation='relu', kernel_initializer='he_uniform', padding='same'))\n",
        "\tmodel.add(BatchNormalization())\n",
        "\tmodel.add(MaxPooling2D((2, 2)))\n",
        "\tmodel.add(Dropout(0.3))\n",
        "\tmodel.add(Conv2D(128, (3, 3), activation='relu', kernel_initializer='he_uniform', padding='same'))\n",
        "\tmodel.add(BatchNormalization())\n",
        "\tmodel.add(Conv2D(128, (3, 3), activation='relu', kernel_initializer='he_uniform', padding='same'))\n",
        "\tmodel.add(BatchNormalization())\n",
        "\tmodel.add(MaxPooling2D((2, 2)))\n",
        "\tmodel.add(Dropout(0.4))\n",
        "\tmodel.add(Flatten())\n",
        "\tmodel.add(Dense(128, activation='relu', kernel_initializer='he_uniform'))\n",
        "\tmodel.add(BatchNormalization())\n",
        "\tmodel.add(Dropout(0.5))\n",
        "\tmodel.add(Dense(10, activation='softmax'))\n",
        "\t# compile model\n",
        "\topt = SGD(lr=0.001, momentum=0.9)\n",
        "\tmodel.compile(optimizer=opt, loss='categorical_crossentropy', metrics=['accuracy'])\n",
        "\treturn model"
      ],
      "execution_count": 0,
      "outputs": []
    },
    {
      "cell_type": "markdown",
      "metadata": {
        "id": "iD2YOqrHIMYG",
        "colab_type": "text"
      },
      "source": [
        "# Learning Curves"
      ]
    },
    {
      "cell_type": "code",
      "metadata": {
        "id": "IJMmR4X2H9KI",
        "colab_type": "code",
        "colab": {}
      },
      "source": [
        "def summarize_diagnostics(history):\n",
        "\t# plot loss\n",
        "\tpyplot.subplot(211)\n",
        "\tpyplot.title('Cross Entropy Loss')\n",
        "\tpyplot.plot(history.history['loss'], color='blue', label='train')\n",
        "\tpyplot.plot(history.history['val_loss'], color='orange', label='test')\n",
        "\t# plot accuracy\n",
        "\tpyplot.subplot(212)\n",
        "\tpyplot.title('Classification Accuracy')\n",
        "\tpyplot.plot(history.history['accuracy'], color='blue', label='train')\n",
        "\tpyplot.plot(history.history['val_accuracy'], color='orange', label='test')\n",
        "\t# save plot to file\n",
        "\tfilename = sys.argv[0].split('/')[-1]\n",
        "\tpyplot.savefig(filename + '_plot.png')\n",
        "\tpyplot.close()"
      ],
      "execution_count": 0,
      "outputs": []
    },
    {
      "cell_type": "code",
      "metadata": {
        "id": "5mYQbUfaIUog",
        "colab_type": "code",
        "colab": {}
      },
      "source": [
        "# load dataset\n",
        "trainX, trainY, testX, testY = load_dataset()\n",
        "# prepare pixel data\n",
        "trainX, testX = prep_pixels(trainX, testX)\n",
        "# define model\n",
        "model = define_model()"
      ],
      "execution_count": 0,
      "outputs": []
    },
    {
      "cell_type": "code",
      "metadata": {
        "id": "LpV-ch5Ti6Sd",
        "colab_type": "code",
        "colab": {}
      },
      "source": [
        "model.load_weights('/content/drive/My Drive/DeepLearning/final_model.h5')"
      ],
      "execution_count": 0,
      "outputs": []
    },
    {
      "cell_type": "code",
      "metadata": {
        "id": "-qFYHrdVO2eA",
        "colab_type": "code",
        "outputId": "d5e834c9-0366-4d34-c9d5-e49cbbc603e7",
        "colab": {
          "base_uri": "https://localhost:8080/",
          "height": 1000
        }
      },
      "source": [
        "# fit model\n",
        "history = model.fit(trainX, trainY, epochs=100, batch_size=64, validation_data=(testX, testY), verbose=1)"
      ],
      "execution_count": 7,
      "outputs": [
        {
          "output_type": "stream",
          "text": [
            "Epoch 1/100\n",
            "782/782 [==============================] - 20s 26ms/step - loss: 2.0387 - accuracy: 0.3351 - val_loss: 1.4537 - val_accuracy: 0.4690\n",
            "Epoch 2/100\n",
            "782/782 [==============================] - 20s 25ms/step - loss: 1.5232 - accuracy: 0.4461 - val_loss: 1.3502 - val_accuracy: 0.5114\n",
            "Epoch 3/100\n",
            "782/782 [==============================] - 20s 25ms/step - loss: 1.3925 - accuracy: 0.4971 - val_loss: 1.2336 - val_accuracy: 0.5620\n",
            "Epoch 4/100\n",
            "782/782 [==============================] - 20s 25ms/step - loss: 1.2883 - accuracy: 0.5335 - val_loss: 1.1726 - val_accuracy: 0.5827\n",
            "Epoch 5/100\n",
            "782/782 [==============================] - 20s 25ms/step - loss: 1.2037 - accuracy: 0.5698 - val_loss: 1.0979 - val_accuracy: 0.6043\n",
            "Epoch 6/100\n",
            "782/782 [==============================] - 20s 25ms/step - loss: 1.1449 - accuracy: 0.5927 - val_loss: 1.0943 - val_accuracy: 0.5974\n",
            "Epoch 7/100\n",
            "782/782 [==============================] - 20s 25ms/step - loss: 1.1019 - accuracy: 0.6052 - val_loss: 1.0135 - val_accuracy: 0.6329\n",
            "Epoch 8/100\n",
            "782/782 [==============================] - 20s 25ms/step - loss: 1.0524 - accuracy: 0.6255 - val_loss: 1.0245 - val_accuracy: 0.6267\n",
            "Epoch 9/100\n",
            "782/782 [==============================] - 20s 25ms/step - loss: 1.0228 - accuracy: 0.6388 - val_loss: 0.9531 - val_accuracy: 0.6593\n",
            "Epoch 10/100\n",
            "782/782 [==============================] - 20s 25ms/step - loss: 0.9919 - accuracy: 0.6491 - val_loss: 0.9296 - val_accuracy: 0.6697\n",
            "Epoch 11/100\n",
            "782/782 [==============================] - 20s 25ms/step - loss: 0.9662 - accuracy: 0.6582 - val_loss: 0.9214 - val_accuracy: 0.6692\n",
            "Epoch 12/100\n",
            "782/782 [==============================] - 20s 25ms/step - loss: 0.9395 - accuracy: 0.6683 - val_loss: 0.8750 - val_accuracy: 0.6880\n",
            "Epoch 13/100\n",
            "782/782 [==============================] - 20s 25ms/step - loss: 0.9153 - accuracy: 0.6778 - val_loss: 0.8466 - val_accuracy: 0.7025\n",
            "Epoch 14/100\n",
            "782/782 [==============================] - 19s 25ms/step - loss: 0.8964 - accuracy: 0.6855 - val_loss: 0.8360 - val_accuracy: 0.7001\n",
            "Epoch 15/100\n",
            "782/782 [==============================] - 20s 25ms/step - loss: 0.8771 - accuracy: 0.6891 - val_loss: 0.8101 - val_accuracy: 0.7143\n",
            "Epoch 16/100\n",
            "782/782 [==============================] - 19s 25ms/step - loss: 0.8612 - accuracy: 0.6941 - val_loss: 0.8028 - val_accuracy: 0.7150\n",
            "Epoch 17/100\n",
            "782/782 [==============================] - 19s 25ms/step - loss: 0.8407 - accuracy: 0.7031 - val_loss: 0.7446 - val_accuracy: 0.7341\n",
            "Epoch 18/100\n",
            "782/782 [==============================] - 20s 25ms/step - loss: 0.8281 - accuracy: 0.7075 - val_loss: 0.7650 - val_accuracy: 0.7300\n",
            "Epoch 19/100\n",
            "782/782 [==============================] - 20s 25ms/step - loss: 0.8148 - accuracy: 0.7137 - val_loss: 0.7578 - val_accuracy: 0.7322\n",
            "Epoch 20/100\n",
            "782/782 [==============================] - 20s 25ms/step - loss: 0.7972 - accuracy: 0.7191 - val_loss: 0.7865 - val_accuracy: 0.7230\n",
            "Epoch 21/100\n",
            "782/782 [==============================] - 20s 25ms/step - loss: 0.7866 - accuracy: 0.7233 - val_loss: 0.7126 - val_accuracy: 0.7467\n",
            "Epoch 22/100\n",
            "782/782 [==============================] - 20s 25ms/step - loss: 0.7815 - accuracy: 0.7270 - val_loss: 0.7251 - val_accuracy: 0.7415\n",
            "Epoch 23/100\n",
            "782/782 [==============================] - 20s 25ms/step - loss: 0.7622 - accuracy: 0.7327 - val_loss: 0.7346 - val_accuracy: 0.7425\n",
            "Epoch 24/100\n",
            "782/782 [==============================] - 20s 25ms/step - loss: 0.7540 - accuracy: 0.7352 - val_loss: 0.6826 - val_accuracy: 0.7602\n",
            "Epoch 25/100\n",
            "782/782 [==============================] - 19s 25ms/step - loss: 0.7378 - accuracy: 0.7415 - val_loss: 0.6989 - val_accuracy: 0.7517\n",
            "Epoch 26/100\n",
            "782/782 [==============================] - 19s 25ms/step - loss: 0.7295 - accuracy: 0.7428 - val_loss: 0.6928 - val_accuracy: 0.7554\n",
            "Epoch 27/100\n",
            "782/782 [==============================] - 19s 25ms/step - loss: 0.7248 - accuracy: 0.7476 - val_loss: 0.6918 - val_accuracy: 0.7585\n",
            "Epoch 28/100\n",
            "782/782 [==============================] - 20s 25ms/step - loss: 0.7119 - accuracy: 0.7503 - val_loss: 0.7560 - val_accuracy: 0.7403\n",
            "Epoch 29/100\n",
            "782/782 [==============================] - 19s 25ms/step - loss: 0.6999 - accuracy: 0.7546 - val_loss: 0.6483 - val_accuracy: 0.7701\n",
            "Epoch 30/100\n",
            "782/782 [==============================] - 20s 25ms/step - loss: 0.6952 - accuracy: 0.7582 - val_loss: 0.6806 - val_accuracy: 0.7593\n",
            "Epoch 31/100\n",
            "782/782 [==============================] - 19s 25ms/step - loss: 0.6845 - accuracy: 0.7583 - val_loss: 0.6819 - val_accuracy: 0.7656\n",
            "Epoch 32/100\n",
            "782/782 [==============================] - 19s 25ms/step - loss: 0.6731 - accuracy: 0.7663 - val_loss: 0.6548 - val_accuracy: 0.7705\n",
            "Epoch 33/100\n",
            "782/782 [==============================] - 19s 25ms/step - loss: 0.6662 - accuracy: 0.7673 - val_loss: 0.6095 - val_accuracy: 0.7851\n",
            "Epoch 34/100\n",
            "782/782 [==============================] - 19s 25ms/step - loss: 0.6599 - accuracy: 0.7686 - val_loss: 0.6268 - val_accuracy: 0.7783\n",
            "Epoch 35/100\n",
            "782/782 [==============================] - 20s 25ms/step - loss: 0.6482 - accuracy: 0.7712 - val_loss: 0.6426 - val_accuracy: 0.7790\n",
            "Epoch 36/100\n",
            "782/782 [==============================] - 20s 25ms/step - loss: 0.6470 - accuracy: 0.7715 - val_loss: 0.5994 - val_accuracy: 0.7890\n",
            "Epoch 37/100\n",
            "782/782 [==============================] - 20s 25ms/step - loss: 0.6417 - accuracy: 0.7762 - val_loss: 0.6227 - val_accuracy: 0.7854\n",
            "Epoch 38/100\n",
            "782/782 [==============================] - 20s 25ms/step - loss: 0.6330 - accuracy: 0.7803 - val_loss: 0.6108 - val_accuracy: 0.7855\n",
            "Epoch 39/100\n",
            "782/782 [==============================] - 20s 25ms/step - loss: 0.6233 - accuracy: 0.7827 - val_loss: 0.6016 - val_accuracy: 0.7907\n",
            "Epoch 40/100\n",
            "782/782 [==============================] - 20s 25ms/step - loss: 0.6189 - accuracy: 0.7844 - val_loss: 0.6144 - val_accuracy: 0.7843\n",
            "Epoch 41/100\n",
            "782/782 [==============================] - 20s 25ms/step - loss: 0.6050 - accuracy: 0.7884 - val_loss: 0.5728 - val_accuracy: 0.7994\n",
            "Epoch 42/100\n",
            "782/782 [==============================] - 20s 25ms/step - loss: 0.6084 - accuracy: 0.7895 - val_loss: 0.5773 - val_accuracy: 0.7986\n",
            "Epoch 43/100\n",
            "782/782 [==============================] - 20s 25ms/step - loss: 0.5938 - accuracy: 0.7912 - val_loss: 0.5605 - val_accuracy: 0.8029\n",
            "Epoch 44/100\n",
            "782/782 [==============================] - 20s 25ms/step - loss: 0.5907 - accuracy: 0.7948 - val_loss: 0.5549 - val_accuracy: 0.8048\n",
            "Epoch 45/100\n",
            "782/782 [==============================] - 20s 25ms/step - loss: 0.5819 - accuracy: 0.7962 - val_loss: 0.5895 - val_accuracy: 0.7932\n",
            "Epoch 46/100\n",
            "782/782 [==============================] - 20s 25ms/step - loss: 0.5764 - accuracy: 0.7986 - val_loss: 0.5529 - val_accuracy: 0.8079\n",
            "Epoch 47/100\n",
            "782/782 [==============================] - 20s 25ms/step - loss: 0.5733 - accuracy: 0.8012 - val_loss: 0.5802 - val_accuracy: 0.8009\n",
            "Epoch 48/100\n",
            "782/782 [==============================] - 20s 25ms/step - loss: 0.5641 - accuracy: 0.8022 - val_loss: 0.5502 - val_accuracy: 0.8091\n",
            "Epoch 49/100\n",
            "782/782 [==============================] - 20s 25ms/step - loss: 0.5593 - accuracy: 0.8060 - val_loss: 0.5696 - val_accuracy: 0.8006\n",
            "Epoch 50/100\n",
            "782/782 [==============================] - 20s 25ms/step - loss: 0.5508 - accuracy: 0.8086 - val_loss: 0.5497 - val_accuracy: 0.8104\n",
            "Epoch 51/100\n",
            "782/782 [==============================] - 20s 25ms/step - loss: 0.5464 - accuracy: 0.8089 - val_loss: 0.5480 - val_accuracy: 0.8113\n",
            "Epoch 52/100\n",
            "782/782 [==============================] - 20s 25ms/step - loss: 0.5440 - accuracy: 0.8097 - val_loss: 0.5755 - val_accuracy: 0.7977\n",
            "Epoch 53/100\n",
            "782/782 [==============================] - 20s 25ms/step - loss: 0.5407 - accuracy: 0.8134 - val_loss: 0.5551 - val_accuracy: 0.8104\n",
            "Epoch 54/100\n",
            "782/782 [==============================] - 20s 25ms/step - loss: 0.5361 - accuracy: 0.8120 - val_loss: 0.5406 - val_accuracy: 0.8155\n",
            "Epoch 55/100\n",
            "782/782 [==============================] - 20s 25ms/step - loss: 0.5268 - accuracy: 0.8178 - val_loss: 0.5415 - val_accuracy: 0.8106\n",
            "Epoch 56/100\n",
            "782/782 [==============================] - 20s 25ms/step - loss: 0.5263 - accuracy: 0.8160 - val_loss: 0.5801 - val_accuracy: 0.8047\n",
            "Epoch 57/100\n",
            "782/782 [==============================] - 20s 25ms/step - loss: 0.5211 - accuracy: 0.8187 - val_loss: 0.5473 - val_accuracy: 0.8138\n",
            "Epoch 58/100\n",
            "782/782 [==============================] - 20s 25ms/step - loss: 0.5115 - accuracy: 0.8214 - val_loss: 0.5241 - val_accuracy: 0.8207\n",
            "Epoch 59/100\n",
            "782/782 [==============================] - 20s 25ms/step - loss: 0.5120 - accuracy: 0.8223 - val_loss: 0.5279 - val_accuracy: 0.8199\n",
            "Epoch 60/100\n",
            "782/782 [==============================] - 20s 25ms/step - loss: 0.5090 - accuracy: 0.8234 - val_loss: 0.5401 - val_accuracy: 0.8162\n",
            "Epoch 61/100\n",
            "782/782 [==============================] - 20s 25ms/step - loss: 0.5012 - accuracy: 0.8246 - val_loss: 0.5409 - val_accuracy: 0.8153\n",
            "Epoch 62/100\n",
            "782/782 [==============================] - 19s 25ms/step - loss: 0.4956 - accuracy: 0.8293 - val_loss: 0.5060 - val_accuracy: 0.8290\n",
            "Epoch 63/100\n",
            "782/782 [==============================] - 20s 25ms/step - loss: 0.4883 - accuracy: 0.8289 - val_loss: 0.5320 - val_accuracy: 0.8219\n",
            "Epoch 64/100\n",
            "782/782 [==============================] - 19s 25ms/step - loss: 0.4840 - accuracy: 0.8342 - val_loss: 0.4984 - val_accuracy: 0.8289\n",
            "Epoch 65/100\n",
            "782/782 [==============================] - 20s 25ms/step - loss: 0.4823 - accuracy: 0.8337 - val_loss: 0.5114 - val_accuracy: 0.8260\n",
            "Epoch 66/100\n",
            "782/782 [==============================] - 20s 25ms/step - loss: 0.4792 - accuracy: 0.8361 - val_loss: 0.5214 - val_accuracy: 0.8246\n",
            "Epoch 67/100\n",
            "782/782 [==============================] - 20s 25ms/step - loss: 0.4744 - accuracy: 0.8363 - val_loss: 0.4948 - val_accuracy: 0.8299\n",
            "Epoch 68/100\n",
            "782/782 [==============================] - 19s 25ms/step - loss: 0.4709 - accuracy: 0.8353 - val_loss: 0.5140 - val_accuracy: 0.8241\n",
            "Epoch 69/100\n",
            "782/782 [==============================] - 20s 25ms/step - loss: 0.4660 - accuracy: 0.8382 - val_loss: 0.5110 - val_accuracy: 0.8253\n",
            "Epoch 70/100\n",
            "782/782 [==============================] - 20s 25ms/step - loss: 0.4626 - accuracy: 0.8386 - val_loss: 0.5062 - val_accuracy: 0.8277\n",
            "Epoch 71/100\n",
            "782/782 [==============================] - 20s 25ms/step - loss: 0.4584 - accuracy: 0.8407 - val_loss: 0.4791 - val_accuracy: 0.8383\n",
            "Epoch 72/100\n",
            "782/782 [==============================] - 20s 25ms/step - loss: 0.4520 - accuracy: 0.8410 - val_loss: 0.5561 - val_accuracy: 0.8196\n",
            "Epoch 73/100\n",
            "782/782 [==============================] - 20s 25ms/step - loss: 0.4521 - accuracy: 0.8429 - val_loss: 0.4940 - val_accuracy: 0.8318\n",
            "Epoch 74/100\n",
            "782/782 [==============================] - 20s 25ms/step - loss: 0.4441 - accuracy: 0.8455 - val_loss: 0.4865 - val_accuracy: 0.8344\n",
            "Epoch 75/100\n",
            "782/782 [==============================] - 20s 25ms/step - loss: 0.4432 - accuracy: 0.8449 - val_loss: 0.4905 - val_accuracy: 0.8329\n",
            "Epoch 76/100\n",
            "782/782 [==============================] - 20s 25ms/step - loss: 0.4379 - accuracy: 0.8473 - val_loss: 0.4836 - val_accuracy: 0.8384\n",
            "Epoch 77/100\n",
            "782/782 [==============================] - 20s 25ms/step - loss: 0.4286 - accuracy: 0.8523 - val_loss: 0.4878 - val_accuracy: 0.8361\n",
            "Epoch 78/100\n",
            "782/782 [==============================] - 20s 25ms/step - loss: 0.4246 - accuracy: 0.8513 - val_loss: 0.5180 - val_accuracy: 0.8236\n",
            "Epoch 79/100\n",
            "782/782 [==============================] - 20s 25ms/step - loss: 0.4304 - accuracy: 0.8507 - val_loss: 0.4916 - val_accuracy: 0.8361\n",
            "Epoch 80/100\n",
            "782/782 [==============================] - 20s 25ms/step - loss: 0.4249 - accuracy: 0.8513 - val_loss: 0.4705 - val_accuracy: 0.8406\n",
            "Epoch 81/100\n",
            "782/782 [==============================] - 19s 25ms/step - loss: 0.4222 - accuracy: 0.8536 - val_loss: 0.4872 - val_accuracy: 0.8321\n",
            "Epoch 82/100\n",
            "782/782 [==============================] - 20s 25ms/step - loss: 0.4183 - accuracy: 0.8549 - val_loss: 0.4740 - val_accuracy: 0.8401\n",
            "Epoch 83/100\n",
            "782/782 [==============================] - 20s 25ms/step - loss: 0.4103 - accuracy: 0.8563 - val_loss: 0.5052 - val_accuracy: 0.8270\n",
            "Epoch 84/100\n",
            "782/782 [==============================] - 19s 25ms/step - loss: 0.4095 - accuracy: 0.8575 - val_loss: 0.4704 - val_accuracy: 0.8435\n",
            "Epoch 85/100\n",
            "782/782 [==============================] - 20s 25ms/step - loss: 0.4037 - accuracy: 0.8593 - val_loss: 0.4832 - val_accuracy: 0.8406\n",
            "Epoch 86/100\n",
            "782/782 [==============================] - 20s 25ms/step - loss: 0.4027 - accuracy: 0.8586 - val_loss: 0.4707 - val_accuracy: 0.8440\n",
            "Epoch 87/100\n",
            "782/782 [==============================] - 20s 25ms/step - loss: 0.4024 - accuracy: 0.8586 - val_loss: 0.4682 - val_accuracy: 0.8473\n",
            "Epoch 88/100\n",
            "782/782 [==============================] - 20s 25ms/step - loss: 0.3948 - accuracy: 0.8607 - val_loss: 0.4869 - val_accuracy: 0.8390\n",
            "Epoch 89/100\n",
            "782/782 [==============================] - 20s 25ms/step - loss: 0.3942 - accuracy: 0.8618 - val_loss: 0.4864 - val_accuracy: 0.8393\n",
            "Epoch 90/100\n",
            "782/782 [==============================] - 19s 25ms/step - loss: 0.3940 - accuracy: 0.8614 - val_loss: 0.4671 - val_accuracy: 0.8459\n",
            "Epoch 91/100\n",
            "782/782 [==============================] - 20s 25ms/step - loss: 0.3865 - accuracy: 0.8644 - val_loss: 0.4624 - val_accuracy: 0.8453\n",
            "Epoch 92/100\n",
            "782/782 [==============================] - 20s 25ms/step - loss: 0.3824 - accuracy: 0.8652 - val_loss: 0.4735 - val_accuracy: 0.8454\n",
            "Epoch 93/100\n",
            "782/782 [==============================] - 19s 25ms/step - loss: 0.3821 - accuracy: 0.8657 - val_loss: 0.4573 - val_accuracy: 0.8511\n",
            "Epoch 94/100\n",
            "782/782 [==============================] - 20s 25ms/step - loss: 0.3753 - accuracy: 0.8697 - val_loss: 0.4579 - val_accuracy: 0.8478\n",
            "Epoch 95/100\n",
            "782/782 [==============================] - 19s 25ms/step - loss: 0.3717 - accuracy: 0.8697 - val_loss: 0.4599 - val_accuracy: 0.8502\n",
            "Epoch 96/100\n",
            "782/782 [==============================] - 19s 25ms/step - loss: 0.3720 - accuracy: 0.8694 - val_loss: 0.4607 - val_accuracy: 0.8503\n",
            "Epoch 97/100\n",
            "782/782 [==============================] - 19s 25ms/step - loss: 0.3667 - accuracy: 0.8718 - val_loss: 0.4961 - val_accuracy: 0.8393\n",
            "Epoch 98/100\n",
            "782/782 [==============================] - 19s 25ms/step - loss: 0.3671 - accuracy: 0.8722 - val_loss: 0.4741 - val_accuracy: 0.8466\n",
            "Epoch 99/100\n",
            "782/782 [==============================] - 20s 25ms/step - loss: 0.3638 - accuracy: 0.8732 - val_loss: 0.4709 - val_accuracy: 0.8449\n",
            "Epoch 100/100\n",
            "782/782 [==============================] - 20s 25ms/step - loss: 0.3583 - accuracy: 0.8750 - val_loss: 0.4643 - val_accuracy: 0.8502\n"
          ],
          "name": "stdout"
        }
      ]
    },
    {
      "cell_type": "code",
      "metadata": {
        "id": "ADRcnQj7TmV1",
        "colab_type": "code",
        "colab": {}
      },
      "source": [
        "model.save('cifar_model.h5')"
      ],
      "execution_count": 0,
      "outputs": []
    },
    {
      "cell_type": "code",
      "metadata": {
        "id": "ClqhPI4fOjW_",
        "colab_type": "code",
        "outputId": "ad5aeb72-703d-4654-d285-9ec2f391b332",
        "colab": {
          "base_uri": "https://localhost:8080/",
          "height": 35
        }
      },
      "source": [
        "# evaluate model\n",
        "_, acc = model.evaluate(testX, testY, verbose=0)\n",
        "print('> %.3f' % (acc * 100.0))\n",
        "# learning curves\n",
        "summarize_diagnostics(history)"
      ],
      "execution_count": 9,
      "outputs": [
        {
          "output_type": "stream",
          "text": [
            "> 85.020\n"
          ],
          "name": "stdout"
        }
      ]
    },
    {
      "cell_type": "markdown",
      "metadata": {
        "id": "9GAjJXGPSwV1",
        "colab_type": "text"
      },
      "source": [
        "# Load  Image"
      ]
    },
    {
      "cell_type": "code",
      "metadata": {
        "id": "J17VfjWkSvy_",
        "colab_type": "code",
        "colab": {}
      },
      "source": [
        "# load and prepare the image\n",
        "filename = \"sample_image.png\"\n",
        "def load_image(filename):\n",
        "\t# load the image\n",
        "\timg = load_img(filename, target_size=(32, 32))\n",
        "\t# convert to array\n",
        "\timg = img_to_array(img)\n",
        "\t# reshape into a single sample with 3 channels\n",
        "\timg = img.reshape(1, 32, 32, 3)\n",
        "\t# prepare pixel data\n",
        "\timg = img.astype('float32')\n",
        "\timg = img / 255.0\n",
        "\treturn img"
      ],
      "execution_count": 0,
      "outputs": []
    },
    {
      "cell_type": "code",
      "metadata": {
        "id": "NfS5k5t8S4AG",
        "colab_type": "code",
        "colab": {}
      },
      "source": [
        "def run_example():\n",
        "\t# load the image\n",
        "  img = load_image('sample_image.png')\n",
        "\t# load model\n",
        "  model = load_model('final_model.h5')\n",
        "\t# predict the class\n",
        "  result = model.predict_classes(img)\n",
        "  print('Prediction: ', end =\" \")\n",
        "  if result[0] == 0:\n",
        "    print('airplane')\n",
        "  elif result[0] == 1:\n",
        "    print('automobile')\n",
        "  elif result[0] == 2:\n",
        "    print('bird')\n",
        "  elif result[0] == 3:\n",
        "    print('cat')\n",
        "  elif result[0] == 4:\n",
        "    print('deer')\n",
        "  elif result[0] == 5:\n",
        "    print('dog')\n",
        "  elif result[0] == 6:\n",
        "    print('frog')\n",
        "  elif result[0] == 7:\n",
        "    print('horse')\n",
        "  elif result[0] == 8:\n",
        "    print('ship')\n",
        "  else:\n",
        "    print('truck')"
      ],
      "execution_count": 0,
      "outputs": []
    },
    {
      "cell_type": "code",
      "metadata": {
        "id": "3Lmh8OQGZfrG",
        "colab_type": "code",
        "outputId": "cb1887cd-cf51-4960-b8a2-5f8892c1ef95",
        "colab": {
          "base_uri": "https://localhost:8080/",
          "height": 35
        }
      },
      "source": [
        "run_example()"
      ],
      "execution_count": 18,
      "outputs": [
        {
          "output_type": "stream",
          "text": [
            "Prediction:  frog\n"
          ],
          "name": "stdout"
        }
      ]
    },
    {
      "cell_type": "code",
      "metadata": {
        "id": "epEBxPtBd4q9",
        "colab_type": "code",
        "colab": {}
      },
      "source": [
        "model.save('/content/drive/My Drive/DeepLearning/cifar_model.h5')"
      ],
      "execution_count": 0,
      "outputs": []
    },
    {
      "cell_type": "code",
      "metadata": {
        "id": "kFJM3PNJ5NGY",
        "colab_type": "code",
        "colab": {
          "base_uri": "https://localhost:8080/",
          "height": 35
        },
        "outputId": "819c03ae-841b-4b3b-c497-d4e4589ce9bb"
      },
      "source": [
        "converter = tf.lite.TFLiteConverter.from_keras_model(model)\n",
        "tflite_model = converter.convert()\n",
        "tflite_model_name = \"cifar.tflite\"\n",
        "open(tflite_model_name, \"wb\").write(tflite_model)"
      ],
      "execution_count": 24,
      "outputs": [
        {
          "output_type": "execute_result",
          "data": {
            "text/plain": [
              "2215396"
            ]
          },
          "metadata": {
            "tags": []
          },
          "execution_count": 24
        }
      ]
    }
  ]
}